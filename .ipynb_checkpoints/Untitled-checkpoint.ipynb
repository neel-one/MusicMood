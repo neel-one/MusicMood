{
 "cells": [
  {
   "cell_type": "code",
   "execution_count": 1,
   "metadata": {},
   "outputs": [],
   "source": [
    "from bs4 import BeautifulSoup\n",
    "import requests\n",
    "\n",
    "url = \"https://www.powerthesaurus.org/happy/synonyms\"\n",
    "headers = {'User-Agent': 'Mozilla/5.0 (Windows NT 6.1; WOW64) AppleWebKit/537.36 (KHTML, like Gecko) Chrome/56.0.2924.76 Safari/537.36'}\n",
    "response = requests.get(url, headers = headers)\n",
    "soup = BeautifulSoup(response.content, \"html.parser\")"
   ]
  },
  {
   "cell_type": "code",
   "execution_count": 6,
   "metadata": {},
   "outputs": [],
   "source": [
    "x = soup.find_all(class_ = \"pt-thesaurus-card__term-title\")"
   ]
  },
  {
   "cell_type": "code",
   "execution_count": 36,
   "metadata": {},
   "outputs": [],
   "source": [
    "word = str(x[0])"
   ]
  },
  {
   "cell_type": "code",
   "execution_count": 49,
   "metadata": {},
   "outputs": [],
   "source": [
    "def edit(word):\n",
    "    word = str(word)\n",
    "    s = \"\"\n",
    "    record = 0\n",
    "    for i in range(0, len(word)):\n",
    "        if(record == 1):\n",
    "            s += word[i]\n",
    "        if(word[i] == '/'):\n",
    "            record += 1\n",
    "        if(record == 2):\n",
    "            break\n",
    "    return s[:len(s)-1]"
   ]
  },
  {
   "cell_type": "code",
   "execution_count": 50,
   "metadata": {},
   "outputs": [],
   "source": [
    "d = dict()\n",
    "for i in x:\n",
    "    s = edit(i)\n",
    "    d[s] = \"happy\""
   ]
  },
  {
   "cell_type": "code",
   "execution_count": 51,
   "metadata": {},
   "outputs": [
    {
     "data": {
      "text/plain": [
       "{'glad': 'happy',\n",
       " 'joyful': 'happy',\n",
       " 'delighted': 'happy',\n",
       " 'cheerful': 'happy',\n",
       " 'pleased': 'happy',\n",
       " 'ecstatic': 'happy',\n",
       " 'jubilant': 'happy',\n",
       " 'good': 'happy',\n",
       " 'contented': 'happy',\n",
       " 'merry': 'happy',\n",
       " 'joyous': 'happy',\n",
       " 'satisfied': 'happy',\n",
       " 'thrilled': 'happy',\n",
       " 'jovial': 'happy',\n",
       " 'content': 'happy',\n",
       " 'overjoyed': 'happy',\n",
       " 'cheery': 'happy',\n",
       " 'blithesome': 'happy',\n",
       " 'fortunate': 'happy',\n",
       " 'providential': 'happy',\n",
       " 'blissful': 'happy',\n",
       " 'gay': 'happy',\n",
       " 'jolly': 'happy',\n",
       " 'welcome': 'happy',\n",
       " 'elated': 'happy',\n",
       " 'lucky': 'happy',\n",
       " 'gladsome': 'happy',\n",
       " 'triumphant': 'happy',\n",
       " 'chuffed': 'happy',\n",
       " 'in_high_spirits': 'happy',\n",
       " 'euphoric': 'happy',\n",
       " 'fitting': 'happy',\n",
       " 'appropriate': 'happy',\n",
       " 'proper': 'happy',\n",
       " 'buoyant': 'happy',\n",
       " 'blithe': 'happy',\n",
       " 'exultant': 'happy',\n",
       " 'easygoing': 'happy',\n",
       " 'jocund': 'happy',\n",
       " 'hopeful': 'happy',\n",
       " 'excited': 'happy',\n",
       " 'exhilarated': 'happy',\n",
       " 'vivacious': 'happy',\n",
       " 'lighthearted': 'happy',\n",
       " 'gratified': 'happy',\n",
       " 'convivial': 'happy',\n",
       " 'gleeful': 'happy',\n",
       " 'mirthful': 'happy',\n",
       " 'pleasant': 'happy',\n",
       " 'rapturous': 'happy'}"
      ]
     },
     "execution_count": 51,
     "metadata": {},
     "output_type": "execute_result"
    }
   ],
   "source": [
    "d"
   ]
  },
  {
   "cell_type": "code",
   "execution_count": null,
   "metadata": {},
   "outputs": [],
   "source": []
  }
 ],
 "metadata": {
  "kernelspec": {
   "display_name": "Python 3",
   "language": "python",
   "name": "python3"
  },
  "language_info": {
   "codemirror_mode": {
    "name": "ipython",
    "version": 3
   },
   "file_extension": ".py",
   "mimetype": "text/x-python",
   "name": "python",
   "nbconvert_exporter": "python",
   "pygments_lexer": "ipython3",
   "version": "3.7.3"
  }
 },
 "nbformat": 4,
 "nbformat_minor": 2
}
